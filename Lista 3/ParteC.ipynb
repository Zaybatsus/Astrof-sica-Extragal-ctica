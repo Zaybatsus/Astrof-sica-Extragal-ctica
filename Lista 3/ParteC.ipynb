{
 "cells": [
  {
   "cell_type": "code",
   "execution_count": 1,
   "metadata": {},
   "outputs": [],
   "source": [
    "from asyncore import read\n",
    "import pandas as pd \n",
    "\n",
    "import math as mt \n",
    "import numpy\n",
    "import numpy as np\n",
    "from numpy import log as ln\n",
    "\n",
    "from scipy.optimize import curve_fit\n",
    "from mpl_toolkits.mplot3d import axes3d\n",
    "import seaborn as sns\n",
    "\n",
    "import matplotlib as mpl\n",
    "import matplotlib.pyplot as plt\n",
    "%matplotlib inline\n",
    "import numpy as np\n",
    "from sympy import *\n",
    "from sympy.abc import theta\n",
    "from scipy.optimize import curve_fit\n",
    "from matplotlib.colors import LogNorm\n"
   ]
  },
  {
   "cell_type": "code",
   "execution_count": 2,
   "metadata": {},
   "outputs": [
    {
     "name": "stdout",
     "output_type": "stream",
     "text": [
      "   loghz  logjy        hz        jy\n",
      "0    7.0   4.12  1.945910  1.415853\n",
      "1    7.3   4.45  1.987874  1.492904\n",
      "2    7.7   4.33  2.041220  1.465568\n",
      "3    8.0   4.14  2.079442  1.420696\n",
      "4    8.3   3.91  2.116256  1.363537\n"
     ]
    }
   ],
   "source": [
    "#Import dados da tabela:\n",
    "df = pd.read_csv('Pasta1.csv', header=1)\n",
    "\n",
    "#Alterando dados da tabela tirando os logs:\n",
    "df['hz'] = numpy.log(df['loghz'])\n",
    "df['jy'] = numpy.log(df['logjy'])\n",
    "\n",
    "print(df.head())\n"
   ]
  },
  {
   "cell_type": "markdown",
   "metadata": {},
   "source": [
    "Fazendo a plotagem dos dados obtemos:"
   ]
  },
  {
   "cell_type": "code",
   "execution_count": 3,
   "metadata": {},
   "outputs": [
    {
     "data": {
      "image/png": "[encoded data removed]",
      "text/plain": [
       "<Figure size 432x288 with 1 Axes>"
      ]
     },
     "metadata": {
      "needs_background": "light"
     },
     "output_type": "display_data"
    }
   ],
   "source": [
    "freq = np.array(df['loghz'],'float')\n",
    "flux = np.array(df['logjy'], 'float')\n",
    "\n",
    "plt.scatter(df['loghz'], df['logjy'], color='black', s=20)\n",
    "plt.title('Índice Espectral')\n",
    "plt.xlabel('Log v (Hz)')\n",
    "plt.ylabel('Log vF')\n",
    "plt.show()"
   ]
  },
  {
   "cell_type": "code",
   "execution_count": 4,
   "metadata": {},
   "outputs": [
    {
     "data": {
      "image/png": "[encoded data removed]",
      "text/plain": [
       "<Figure size 432x288 with 1 Axes>"
      ]
     },
     "metadata": {
      "needs_background": "light"
     },
     "output_type": "display_data"
    }
   ],
   "source": [
    "# Agora fazendo um ajuste da curva em uma linha: \n",
    "#Ajuste:\n",
    "def func (x,a,b):\n",
    "    return (a*x) +b\n",
    "\n",
    "xdata = np.linspace(7 , 10, 50)\n",
    "# Fazendo os calculos para obter a equação da reta, ou seja, y=ax+b é obtemos que:\n",
    "# o Coeficiente angular é -0,7139, e o coeficente linear é 9,6437 \n",
    "ydata = func(xdata, -0.7139, 9.6437)\n",
    "\n",
    "params , pcov = curve_fit(func,xdata,ydata)\n",
    "\n",
    "#Plotagem do gráfico com a reta ajustada:\n",
    "plt.scatter(df['loghz'], df['logjy'], color='black', s=20)\n",
    "plt.plot(xdata, func(xdata, *params), color ='red')\n",
    "plt.title('Índice Espectral')\n",
    "plt.xlabel('Log v (Hz)')\n",
    "plt.ylabel('Log vF')\n",
    "plt.show()"
   ]
  },
  {
   "cell_type": "code",
   "execution_count": 5,
   "metadata": {},
   "outputs": [
    {
     "name": "stdout",
     "output_type": "stream",
     "text": [
      "O valor de alpha é 0.7139\n"
     ]
    }
   ],
   "source": [
    "#Sabendo-se o coeficiente angular da reta ajustada, o módulo do valor é o nosso valor de alpha:\n",
    "\n",
    "alpha = 0.7139\n",
    "print (\"O valor de alpha é\", alpha)"
   ]
  },
  {
   "cell_type": "markdown",
   "metadata": {},
   "source": [
    "Calculando o fluxo total integrando numericamente o espectro e estime a luminosidade em rádio de Cygnus A"
   ]
  },
  {
   "cell_type": "code",
   "execution_count": 6,
   "metadata": {},
   "outputs": [
    {
     "name": "stdout",
     "output_type": "stream",
     "text": [
      "0.7170000000000016 Jy\n"
     ]
    }
   ],
   "source": [
    "#Para calcular o fluxo total é possível realizar a integral da reta ajustada.\n",
    "\n",
    "def integral (xdata , ydata):\n",
    "    N = len(xdata)\n",
    "    I = 0.0\n",
    "    for i in range(0,N-1):\n",
    "        dx = xdata[i+1] - xdata[i]\n",
    "        y0 = ydata[i]\n",
    "        y1 = ydata[i+1]\n",
    "        trap = I + (y1+y0)*dx/2.0\n",
    "    return trap\n",
    "\n",
    "F = integral(freq, flux)\n",
    "print(F,'Jy')\n"
   ]
  },
  {
   "cell_type": "markdown",
   "metadata": {},
   "source": [
    "Expressando a Luminosidade em erg s−1"
   ]
  },
  {
   "cell_type": "code",
   "execution_count": 1,
   "metadata": {},
   "outputs": [
    {
     "name": "stdout",
     "output_type": "stream",
     "text": [
      "L = 7.2 X 10^44 erg⋅s−1⋅cm−2⋅Hz−1 \n"
     ]
    }
   ],
   "source": [
    "# Para expressar o resultado de SI units para CGS usamos a tranformação encontrada : https://en.wikipedia.org/wiki/Jansky\n",
    "#   SI units\t=   10^−26 W⋅m−2⋅Hz−1\n",
    "#   CGS units\t=   10^−23 erg⋅s−1⋅cm−2⋅Hz−1\n",
    "# Realizando a transformação obtemos:\n",
    "print(\"L = 7.2 X 10^44 erg⋅s−1⋅cm−2⋅Hz−1 \")"
   ]
  },
  {
   "cell_type": "code",
   "execution_count": null,
   "metadata": {},
   "outputs": [],
   "source": [
    "# Professor neste exercicio como puxei os dados em arquivo csv, no próprio excel eu plotei o gráfico e nele aparece a equação da reta\n",
    "# Por isso eu já entrei com os valores já definidos no plot do ajuste de linha\n",
    "# A transformação eu fiz no caderno."
   ]
  }
 ],
 "metadata": {
  "interpreter": {
   "hash": "3dd126648d3c87b7f8f1f574b819ea265afa530519cc2e7654ba5647f3fc488e"
  },
  "kernelspec": {
   "display_name": "Python 3.9.7 ('base')",
   "language": "python",
   "name": "python3"
  },
  "language_info": {
   "codemirror_mode": {
    "name": "ipython",
    "version": 3
   },
   "file_extension": ".py",
   "mimetype": "text/x-python",
   "name": "python",
   "nbconvert_exporter": "python",
   "pygments_lexer": "ipython3",
   "version": "3.9.7"
  },
  "orig_nbformat": 4
 },
 "nbformat": 4,
 "nbformat_minor": 2
}
