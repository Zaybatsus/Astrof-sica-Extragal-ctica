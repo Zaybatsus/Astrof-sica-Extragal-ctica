{
 "cells": [
  {
   "cell_type": "code",
   "execution_count": 1,
   "metadata": {},
   "outputs": [],
   "source": [
    "#Pandas: \n",
    "from asyncore import read\n",
    "import pandas as pd\n",
    "\n",
    "#Matplotlib: \n",
    "import matplotlib as mpl\n",
    "import matplotlib.pyplot as plt\n",
    "%matplotlib inline\n",
    "import numpy as np\n",
    "from scipy.stats import norm\n",
    "from sympy import *\n",
    "from sympy.abc import theta\n",
    "from scipy.optimize import curve_fit\n",
    "\n",
    "#Atropy: \n",
    "from astropy import units as u\n",
    "from astropy.coordinates import (SkyCoord, Distance, Galactic, \n",
    "                                 EarthLocation, AltAz)\n",
    "import astropy.coordinates as coord\n",
    "from astropy.io import fits\n",
    "from astropy.table import QTable\n",
    "from astropy.time import Time\n",
    "from astropy.utils.data import download_file\n",
    "from astropy.wcs import WCS"
   ]
  },
  {
   "cell_type": "code",
   "execution_count": 2,
   "metadata": {},
   "outputs": [
    {
     "data": {
      "text/html": [
       "<div>\n",
       "<style scoped>\n",
       "    .dataframe tbody tr th:only-of-type {\n",
       "        vertical-align: middle;\n",
       "    }\n",
       "\n",
       "    .dataframe tbody tr th {\n",
       "        vertical-align: top;\n",
       "    }\n",
       "\n",
       "    .dataframe thead th {\n",
       "        text-align: right;\n",
       "    }\n",
       "</style>\n",
       "<table border=\"1\" class=\"dataframe\">\n",
       "  <thead>\n",
       "    <tr style=\"text-align: right;\">\n",
       "      <th></th>\n",
       "      <th>objid</th>\n",
       "      <th>ra</th>\n",
       "      <th>dec</th>\n",
       "      <th>magnitude</th>\n",
       "      <th>redshift</th>\n",
       "    </tr>\n",
       "  </thead>\n",
       "  <tbody>\n",
       "    <tr>\n",
       "      <th>0</th>\n",
       "      <td>1237667444586053720</td>\n",
       "      <td>196.284706</td>\n",
       "      <td>28.234373</td>\n",
       "      <td>22.58551</td>\n",
       "      <td>0.585324</td>\n",
       "    </tr>\n",
       "    <tr>\n",
       "      <th>1</th>\n",
       "      <td>1237667323260830515</td>\n",
       "      <td>194.906882</td>\n",
       "      <td>27.332098</td>\n",
       "      <td>21.75322</td>\n",
       "      <td>0.472589</td>\n",
       "    </tr>\n",
       "    <tr>\n",
       "      <th>2</th>\n",
       "      <td>1237667912744632525</td>\n",
       "      <td>194.867526</td>\n",
       "      <td>25.692050</td>\n",
       "      <td>19.84105</td>\n",
       "      <td>0.304447</td>\n",
       "    </tr>\n",
       "    <tr>\n",
       "      <th>3</th>\n",
       "      <td>1237667322187350696</td>\n",
       "      <td>195.471789</td>\n",
       "      <td>26.351422</td>\n",
       "      <td>21.93289</td>\n",
       "      <td>0.517260</td>\n",
       "    </tr>\n",
       "    <tr>\n",
       "      <th>4</th>\n",
       "      <td>1237667442437324818</td>\n",
       "      <td>192.984318</td>\n",
       "      <td>26.786457</td>\n",
       "      <td>17.58324</td>\n",
       "      <td>0.081380</td>\n",
       "    </tr>\n",
       "    <tr>\n",
       "      <th>...</th>\n",
       "      <td>...</td>\n",
       "      <td>...</td>\n",
       "      <td>...</td>\n",
       "      <td>...</td>\n",
       "      <td>...</td>\n",
       "    </tr>\n",
       "    <tr>\n",
       "      <th>6754</th>\n",
       "      <td>1237667444584153198</td>\n",
       "      <td>191.392338</td>\n",
       "      <td>28.422801</td>\n",
       "      <td>16.89701</td>\n",
       "      <td>0.091844</td>\n",
       "    </tr>\n",
       "    <tr>\n",
       "      <th>6755</th>\n",
       "      <td>1237667252944765469</td>\n",
       "      <td>191.994237</td>\n",
       "      <td>28.855437</td>\n",
       "      <td>21.97448</td>\n",
       "      <td>0.467319</td>\n",
       "    </tr>\n",
       "    <tr>\n",
       "      <th>6756</th>\n",
       "      <td>1237665440440975368</td>\n",
       "      <td>192.002684</td>\n",
       "      <td>28.589881</td>\n",
       "      <td>24.48626</td>\n",
       "      <td>0.560167</td>\n",
       "    </tr>\n",
       "    <tr>\n",
       "      <th>6757</th>\n",
       "      <td>1237667322186040135</td>\n",
       "      <td>192.018691</td>\n",
       "      <td>26.548430</td>\n",
       "      <td>22.58723</td>\n",
       "      <td>0.660798</td>\n",
       "    </tr>\n",
       "    <tr>\n",
       "      <th>6758</th>\n",
       "      <td>1237667322723107451</td>\n",
       "      <td>192.653633</td>\n",
       "      <td>26.980096</td>\n",
       "      <td>21.52288</td>\n",
       "      <td>0.514639</td>\n",
       "    </tr>\n",
       "  </tbody>\n",
       "</table>\n",
       "<p>6759 rows × 5 columns</p>\n",
       "</div>"
      ],
      "text/plain": [
       "                    objid          ra        dec  magnitude  redshift\n",
       "0     1237667444586053720  196.284706  28.234373   22.58551  0.585324\n",
       "1     1237667323260830515  194.906882  27.332098   21.75322  0.472589\n",
       "2     1237667912744632525  194.867526  25.692050   19.84105  0.304447\n",
       "3     1237667322187350696  195.471789  26.351422   21.93289  0.517260\n",
       "4     1237667442437324818  192.984318  26.786457   17.58324  0.081380\n",
       "...                   ...         ...        ...        ...       ...\n",
       "6754  1237667444584153198  191.392338  28.422801   16.89701  0.091844\n",
       "6755  1237667252944765469  191.994237  28.855437   21.97448  0.467319\n",
       "6756  1237665440440975368  192.002684  28.589881   24.48626  0.560167\n",
       "6757  1237667322186040135  192.018691  26.548430   22.58723  0.660798\n",
       "6758  1237667322723107451  192.653633  26.980096   21.52288  0.514639\n",
       "\n",
       "[6759 rows x 5 columns]"
      ]
     },
     "execution_count": 2,
     "metadata": {},
     "output_type": "execute_result"
    }
   ],
   "source": [
    "#Buscar os dados do sloan a partir das coordenadas do aglomerado de Coma (limites: http://skyserver.sdss.org/dr16/en/help/docs/api.aspx)\n",
    "# Foi usado o seguinte metodo de encontrar por posição, mostrado: https://www.sdss.org/dr17/tutorials/getdata/#FindbyPosition \n",
    "#   SELECT galaxy.objid, galaxy.ra, galaxy.dec, galaxy.g as magnitude, s.z as redshift\n",
    "#   FROM galaxy, specobj s, dbo.fGetNearbyObjEq(194,27,180) aglomeradoComa\n",
    "#   WHERE galaxy.objID=s.bestobjID AND galaxy.objID=aglomeradoComa.objID AND s.bestobjID=aglomeradoComa.objID\n",
    "\n",
    "#lendo o arquivo com os dadods sloan:\n",
    "Tab = pd.read_csv('coma.csv', header=1)\n",
    "Tab"
   ]
  },
  {
   "cell_type": "code",
   "execution_count": 3,
   "metadata": {},
   "outputs": [
    {
     "data": {
      "text/plain": [
       "Text(0, 0.5, 'Declinação (decº)')"
      ]
     },
     "execution_count": 3,
     "metadata": {},
     "output_type": "execute_result"
    },
    {
     "data": {
      "image/png": "[encoded data removed]",
      "text/plain": [
       "<Figure size 432x288 with 1 Axes>"
      ]
     },
     "metadata": {
      "needs_background": "light"
     },
     "output_type": "display_data"
    }
   ],
   "source": [
    "# Fazendo o plot dos dados coletados, usando as coordenadas ra e dec\n",
    "plt.plot(Tab['ra'],Tab['dec'],'.')\n",
    "plt.title('Coordenadas Equatoriais')\n",
    "plt.xlabel('Ascensão reta (raº)')\n",
    "plt.ylabel('Declinação (decº)')"
   ]
  },
  {
   "cell_type": "code",
   "execution_count": 4,
   "metadata": {},
   "outputs": [
    {
     "data": {
      "text/html": [
       "<div>\n",
       "<style scoped>\n",
       "    .dataframe tbody tr th:only-of-type {\n",
       "        vertical-align: middle;\n",
       "    }\n",
       "\n",
       "    .dataframe tbody tr th {\n",
       "        vertical-align: top;\n",
       "    }\n",
       "\n",
       "    .dataframe thead th {\n",
       "        text-align: right;\n",
       "    }\n",
       "</style>\n",
       "<table border=\"1\" class=\"dataframe\">\n",
       "  <thead>\n",
       "    <tr style=\"text-align: right;\">\n",
       "      <th></th>\n",
       "      <th>objid</th>\n",
       "      <th>ra</th>\n",
       "      <th>dec</th>\n",
       "      <th>magnitude</th>\n",
       "      <th>redshift</th>\n",
       "    </tr>\n",
       "  </thead>\n",
       "  <tbody>\n",
       "    <tr>\n",
       "      <th>1</th>\n",
       "      <td>1237667323260830515</td>\n",
       "      <td>194.906882</td>\n",
       "      <td>27.332098</td>\n",
       "      <td>21.75322</td>\n",
       "      <td>0.472589</td>\n",
       "    </tr>\n",
       "    <tr>\n",
       "      <th>14</th>\n",
       "      <td>1237667444048331058</td>\n",
       "      <td>194.050374</td>\n",
       "      <td>28.018408</td>\n",
       "      <td>17.86910</td>\n",
       "      <td>0.111479</td>\n",
       "    </tr>\n",
       "    <tr>\n",
       "      <th>16</th>\n",
       "      <td>1237667323797897365</td>\n",
       "      <td>195.451200</td>\n",
       "      <td>27.728445</td>\n",
       "      <td>18.13913</td>\n",
       "      <td>0.018286</td>\n",
       "    </tr>\n",
       "    <tr>\n",
       "      <th>25</th>\n",
       "      <td>1237667444048658822</td>\n",
       "      <td>194.958769</td>\n",
       "      <td>27.924836</td>\n",
       "      <td>16.69916</td>\n",
       "      <td>0.032797</td>\n",
       "    </tr>\n",
       "    <tr>\n",
       "      <th>28</th>\n",
       "      <td>1237667324334571861</td>\n",
       "      <td>194.990049</td>\n",
       "      <td>28.065098</td>\n",
       "      <td>17.27383</td>\n",
       "      <td>0.019484</td>\n",
       "    </tr>\n",
       "    <tr>\n",
       "      <th>...</th>\n",
       "      <td>...</td>\n",
       "      <td>...</td>\n",
       "      <td>...</td>\n",
       "      <td>...</td>\n",
       "      <td>...</td>\n",
       "    </tr>\n",
       "    <tr>\n",
       "      <th>6720</th>\n",
       "      <td>1237667323797504144</td>\n",
       "      <td>194.307773</td>\n",
       "      <td>27.639511</td>\n",
       "      <td>18.45950</td>\n",
       "      <td>0.067423</td>\n",
       "    </tr>\n",
       "    <tr>\n",
       "      <th>6721</th>\n",
       "      <td>1237667323797504287</td>\n",
       "      <td>194.313779</td>\n",
       "      <td>27.729827</td>\n",
       "      <td>17.70884</td>\n",
       "      <td>0.019222</td>\n",
       "    </tr>\n",
       "    <tr>\n",
       "      <th>6732</th>\n",
       "      <td>1237667444048592990</td>\n",
       "      <td>194.775094</td>\n",
       "      <td>27.996698</td>\n",
       "      <td>14.98426</td>\n",
       "      <td>0.025575</td>\n",
       "    </tr>\n",
       "    <tr>\n",
       "      <th>6748</th>\n",
       "      <td>1237667323797372988</td>\n",
       "      <td>194.082453</td>\n",
       "      <td>27.751027</td>\n",
       "      <td>15.19109</td>\n",
       "      <td>0.022975</td>\n",
       "    </tr>\n",
       "    <tr>\n",
       "      <th>6750</th>\n",
       "      <td>1237667323260567649</td>\n",
       "      <td>194.119066</td>\n",
       "      <td>27.291268</td>\n",
       "      <td>15.41853</td>\n",
       "      <td>0.025071</td>\n",
       "    </tr>\n",
       "  </tbody>\n",
       "</table>\n",
       "<p>1277 rows × 5 columns</p>\n",
       "</div>"
      ],
      "text/plain": [
       "                    objid          ra        dec  magnitude  redshift\n",
       "1     1237667323260830515  194.906882  27.332098   21.75322  0.472589\n",
       "14    1237667444048331058  194.050374  28.018408   17.86910  0.111479\n",
       "16    1237667323797897365  195.451200  27.728445   18.13913  0.018286\n",
       "25    1237667444048658822  194.958769  27.924836   16.69916  0.032797\n",
       "28    1237667324334571861  194.990049  28.065098   17.27383  0.019484\n",
       "...                   ...         ...        ...        ...       ...\n",
       "6720  1237667323797504144  194.307773  27.639511   18.45950  0.067423\n",
       "6721  1237667323797504287  194.313779  27.729827   17.70884  0.019222\n",
       "6732  1237667444048592990  194.775094  27.996698   14.98426  0.025575\n",
       "6748  1237667323797372988  194.082453  27.751027   15.19109  0.022975\n",
       "6750  1237667323260567649  194.119066  27.291268   15.41853  0.025071\n",
       "\n",
       "[1277 rows x 5 columns]"
      ]
     },
     "execution_count": 4,
     "metadata": {},
     "output_type": "execute_result"
    }
   ],
   "source": [
    "# Dos dados obtidos vamos selecionar apenas a região onde sabemos que o aglomerado se encontra\n",
    "#Sabe-se alguns dados sobre aglomerado de Coma, que podem ser encontrados no https://stringfixer.com/pt/Coma_Cluster \n",
    "#Ascensão:\t12h59m48,7s = 12.9968608h = 194,95º = 3,4 rad\n",
    "#Declinação: +27°58′50″ =  27.9838889º = 0,49 rad\n",
    "\n",
    "filter = (Tab['ra'] > 194.0) & (Tab['ra'] < 196.0) & (Tab['dec'] > 27.0) & (Tab['dec'] < 29.0)\n",
    "df = Tab[filter] \n",
    "df"
   ]
  },
  {
   "cell_type": "code",
   "execution_count": 5,
   "metadata": {},
   "outputs": [
    {
     "data": {
      "text/plain": [
       "Text(0, 0.5, 'Declinação (decº)')"
      ]
     },
     "execution_count": 5,
     "metadata": {},
     "output_type": "execute_result"
    },
    {
     "data": {
      "image/png": "[encoded data removed]",
      "text/plain": [
       "<Figure size 432x288 with 1 Axes>"
      ]
     },
     "metadata": {
      "needs_background": "light"
     },
     "output_type": "display_data"
    }
   ],
   "source": [
    "# Fazendo o plot usando as coordenadas ra e dec da região onde o aglomerado se encontra\n",
    "plt.plot(df['ra'],df['dec'],'.')\n",
    "plt.title('Coordenadas Equatoriais')\n",
    "plt.xlabel('Ascensão reta (raº)')\n",
    "plt.ylabel('Declinação (decº)')"
   ]
  },
  {
   "cell_type": "code",
   "execution_count": 6,
   "metadata": {},
   "outputs": [
    {
     "name": "stdout",
     "output_type": "stream",
     "text": [
      "Ascesão reta média = 194.92688979441337 deg\n",
      "Declinação média =  27.92822918792757 deg\n"
     ]
    }
   ],
   "source": [
    "#Dos dados selecionados fazer a média das coordenadas\n",
    "ra_med = df['ra'].mean()\n",
    "print(\"Ascesão reta média =\", ra_med,\"deg\")\n",
    "dec_med = df['dec'].mean()\n",
    "print(\"Declinação média = \", dec_med,\"deg\")"
   ]
  },
  {
   "cell_type": "code",
   "execution_count": 7,
   "metadata": {},
   "outputs": [
    {
     "data": {
      "image/png": "[encoded data removed]",
      "text/plain": [
       "<Figure size 432x288 with 1 Axes>"
      ]
     },
     "metadata": {
      "needs_background": "light"
     },
     "output_type": "display_data"
    }
   ],
   "source": [
    "#Fazendo um histograma com os redshifts de toda amostra selecionada:\n",
    "redshift = df['redshift'].tolist()\n",
    "\n",
    "plt.hist(redshift, bins=100)\n",
    "plt.title('Histograma de redshift')\n",
    "plt.ylabel('number')\n",
    "plt.xlabel('z')\n",
    "plt.show()"
   ]
  },
  {
   "cell_type": "code",
   "execution_count": 8,
   "metadata": {},
   "outputs": [
    {
     "data": {
      "text/html": [
       "<div>\n",
       "<style scoped>\n",
       "    .dataframe tbody tr th:only-of-type {\n",
       "        vertical-align: middle;\n",
       "    }\n",
       "\n",
       "    .dataframe tbody tr th {\n",
       "        vertical-align: top;\n",
       "    }\n",
       "\n",
       "    .dataframe thead th {\n",
       "        text-align: right;\n",
       "    }\n",
       "</style>\n",
       "<table border=\"1\" class=\"dataframe\">\n",
       "  <thead>\n",
       "    <tr style=\"text-align: right;\">\n",
       "      <th></th>\n",
       "      <th>objid</th>\n",
       "      <th>ra</th>\n",
       "      <th>dec</th>\n",
       "      <th>magnitude</th>\n",
       "      <th>redshift</th>\n",
       "    </tr>\n",
       "  </thead>\n",
       "  <tbody>\n",
       "    <tr>\n",
       "      <th>16</th>\n",
       "      <td>1237667323797897365</td>\n",
       "      <td>195.451200</td>\n",
       "      <td>27.728445</td>\n",
       "      <td>18.13913</td>\n",
       "      <td>0.018286</td>\n",
       "    </tr>\n",
       "    <tr>\n",
       "      <th>28</th>\n",
       "      <td>1237667324334571861</td>\n",
       "      <td>194.990049</td>\n",
       "      <td>28.065098</td>\n",
       "      <td>17.27383</td>\n",
       "      <td>0.019484</td>\n",
       "    </tr>\n",
       "    <tr>\n",
       "      <th>30</th>\n",
       "      <td>1237667444048724058</td>\n",
       "      <td>195.023672</td>\n",
       "      <td>27.926464</td>\n",
       "      <td>18.30723</td>\n",
       "      <td>0.026533</td>\n",
       "    </tr>\n",
       "    <tr>\n",
       "      <th>37</th>\n",
       "      <td>1237667444048592948</td>\n",
       "      <td>194.733085</td>\n",
       "      <td>27.833372</td>\n",
       "      <td>14.83922</td>\n",
       "      <td>0.025103</td>\n",
       "    </tr>\n",
       "    <tr>\n",
       "      <th>41</th>\n",
       "      <td>1237667443511722195</td>\n",
       "      <td>194.660042</td>\n",
       "      <td>27.544100</td>\n",
       "      <td>16.01950</td>\n",
       "      <td>0.019913</td>\n",
       "    </tr>\n",
       "    <tr>\n",
       "      <th>...</th>\n",
       "      <td>...</td>\n",
       "      <td>...</td>\n",
       "      <td>...</td>\n",
       "      <td>...</td>\n",
       "      <td>...</td>\n",
       "    </tr>\n",
       "    <tr>\n",
       "      <th>6684</th>\n",
       "      <td>1237667323797504055</td>\n",
       "      <td>194.386816</td>\n",
       "      <td>27.610347</td>\n",
       "      <td>14.29806</td>\n",
       "      <td>0.020128</td>\n",
       "    </tr>\n",
       "    <tr>\n",
       "      <th>6721</th>\n",
       "      <td>1237667323797504287</td>\n",
       "      <td>194.313779</td>\n",
       "      <td>27.729827</td>\n",
       "      <td>17.70884</td>\n",
       "      <td>0.019222</td>\n",
       "    </tr>\n",
       "    <tr>\n",
       "      <th>6732</th>\n",
       "      <td>1237667444048592990</td>\n",
       "      <td>194.775094</td>\n",
       "      <td>27.996698</td>\n",
       "      <td>14.98426</td>\n",
       "      <td>0.025575</td>\n",
       "    </tr>\n",
       "    <tr>\n",
       "      <th>6748</th>\n",
       "      <td>1237667323797372988</td>\n",
       "      <td>194.082453</td>\n",
       "      <td>27.751027</td>\n",
       "      <td>15.19109</td>\n",
       "      <td>0.022975</td>\n",
       "    </tr>\n",
       "    <tr>\n",
       "      <th>6750</th>\n",
       "      <td>1237667323260567649</td>\n",
       "      <td>194.119066</td>\n",
       "      <td>27.291268</td>\n",
       "      <td>15.41853</td>\n",
       "      <td>0.025071</td>\n",
       "    </tr>\n",
       "  </tbody>\n",
       "</table>\n",
       "<p>551 rows × 5 columns</p>\n",
       "</div>"
      ],
      "text/plain": [
       "                    objid          ra        dec  magnitude  redshift\n",
       "16    1237667323797897365  195.451200  27.728445   18.13913  0.018286\n",
       "28    1237667324334571861  194.990049  28.065098   17.27383  0.019484\n",
       "30    1237667444048724058  195.023672  27.926464   18.30723  0.026533\n",
       "37    1237667444048592948  194.733085  27.833372   14.83922  0.025103\n",
       "41    1237667443511722195  194.660042  27.544100   16.01950  0.019913\n",
       "...                   ...         ...        ...        ...       ...\n",
       "6684  1237667323797504055  194.386816  27.610347   14.29806  0.020128\n",
       "6721  1237667323797504287  194.313779  27.729827   17.70884  0.019222\n",
       "6732  1237667444048592990  194.775094  27.996698   14.98426  0.025575\n",
       "6748  1237667323797372988  194.082453  27.751027   15.19109  0.022975\n",
       "6750  1237667323260567649  194.119066  27.291268   15.41853  0.025071\n",
       "\n",
       "[551 rows x 5 columns]"
      ]
     },
     "execution_count": 8,
     "metadata": {},
     "output_type": "execute_result"
    }
   ],
   "source": [
    "#Vamos selecionar apenas os daods que estarão entre 0,015 - 0,030. Isto porque é onde se encontra o pico de redshifts\n",
    "selecao = (df['redshift'] > 0.015) & (df['redshift'] < 0.030)\n",
    "coma = df[selecao] \n",
    "coma"
   ]
  },
  {
   "cell_type": "code",
   "execution_count": 9,
   "metadata": {},
   "outputs": [
    {
     "name": "stdout",
     "output_type": "stream",
     "text": [
      "Redshift médio = 0.023089094990925603\n"
     ]
    }
   ],
   "source": [
    "#Ou seja é onde o aglomerado de Coma se encontra. Agora realizando a média entre os redshift do filtro \n",
    "red_med = coma['redshift'].mean()\n",
    "print(\"Redshift médio =\", red_med)"
   ]
  },
  {
   "cell_type": "code",
   "execution_count": 10,
   "metadata": {},
   "outputs": [
    {
     "data": {
      "text/plain": [
       "Text(0, 0.5, 'Declinação (decº)')"
      ]
     },
     "execution_count": 10,
     "metadata": {},
     "output_type": "execute_result"
    },
    {
     "data": {
      "image/png": "[encoded data removed]",
      "text/plain": [
       "<Figure size 432x288 with 1 Axes>"
      ]
     },
     "metadata": {
      "needs_background": "light"
     },
     "output_type": "display_data"
    }
   ],
   "source": [
    "# Fazendo o plot dos usando as coordenadas ra e dec agora para as coordenadas do aglomerado de Coma\n",
    "plt.plot(coma['ra'],coma['dec'],'.')\n",
    "plt.title('Coordenadas Equatoriais')\n",
    "plt.xlabel('Ascensão reta (raº)')\n",
    "plt.ylabel('Declinação (decº)')"
   ]
  },
  {
   "cell_type": "code",
   "execution_count": 11,
   "metadata": {},
   "outputs": [
    {
     "name": "stdout",
     "output_type": "stream",
     "text": [
      "Distância do aglomerado =  102.81971398998185 Mpc\n"
     ]
    }
   ],
   "source": [
    "# Agora podemos calcular a distância do agloremardo a partir da a lei de huble v = H0.d ou v = c.z_med\n",
    "H0 = 67.321       # km/s/Mpc\n",
    "c = 299792    # km/s\n",
    "distancia = (red_med * c )/ H0\n",
    "\n",
    "print(\"Distância do aglomerado = \", distancia, \"Mpc\")"
   ]
  },
  {
   "cell_type": "code",
   "execution_count": 12,
   "metadata": {},
   "outputs": [
    {
     "name": "stderr",
     "output_type": "stream",
     "text": [
      "C:\\Users\\pingu\\AppData\\Local\\Temp/ipykernel_12220/200364349.py:19: SettingWithCopyWarning: \n",
      "A value is trying to be set on a copy of a slice from a DataFrame.\n",
      "Try using .loc[row_indexer,col_indexer] = value instead\n",
      "\n",
      "See the caveats in the documentation: https://pandas.pydata.org/pandas-docs/stable/user_guide/indexing.html#returning-a-view-versus-a-copy\n",
      "  coma['Distancia Radial'] = distancia_radial\n"
     ]
    },
    {
     "data": {
      "text/html": [
       "<div>\n",
       "<style scoped>\n",
       "    .dataframe tbody tr th:only-of-type {\n",
       "        vertical-align: middle;\n",
       "    }\n",
       "\n",
       "    .dataframe tbody tr th {\n",
       "        vertical-align: top;\n",
       "    }\n",
       "\n",
       "    .dataframe thead th {\n",
       "        text-align: right;\n",
       "    }\n",
       "</style>\n",
       "<table border=\"1\" class=\"dataframe\">\n",
       "  <thead>\n",
       "    <tr style=\"text-align: right;\">\n",
       "      <th></th>\n",
       "      <th>objid</th>\n",
       "      <th>ra</th>\n",
       "      <th>dec</th>\n",
       "      <th>magnitude</th>\n",
       "      <th>redshift</th>\n",
       "      <th>Distancia Radial</th>\n",
       "    </tr>\n",
       "  </thead>\n",
       "  <tbody>\n",
       "    <tr>\n",
       "      <th>16</th>\n",
       "      <td>1237667323797897365</td>\n",
       "      <td>195.451200</td>\n",
       "      <td>27.728445</td>\n",
       "      <td>18.13913</td>\n",
       "      <td>0.018286</td>\n",
       "      <td>1.447246</td>\n",
       "    </tr>\n",
       "    <tr>\n",
       "      <th>28</th>\n",
       "      <td>1237667324334571861</td>\n",
       "      <td>194.990049</td>\n",
       "      <td>28.065098</td>\n",
       "      <td>17.27383</td>\n",
       "      <td>0.019484</td>\n",
       "      <td>0.381722</td>\n",
       "    </tr>\n",
       "    <tr>\n",
       "      <th>30</th>\n",
       "      <td>1237667444048724058</td>\n",
       "      <td>195.023672</td>\n",
       "      <td>27.926464</td>\n",
       "      <td>18.30723</td>\n",
       "      <td>0.026533</td>\n",
       "      <td>0.158524</td>\n",
       "    </tr>\n",
       "    <tr>\n",
       "      <th>37</th>\n",
       "      <td>1237667444048592948</td>\n",
       "      <td>194.733085</td>\n",
       "      <td>27.833372</td>\n",
       "      <td>14.83922</td>\n",
       "      <td>0.025103</td>\n",
       "      <td>0.174131</td>\n",
       "    </tr>\n",
       "    <tr>\n",
       "      <th>41</th>\n",
       "      <td>1237667443511722195</td>\n",
       "      <td>194.660042</td>\n",
       "      <td>27.544100</td>\n",
       "      <td>16.01950</td>\n",
       "      <td>0.019913</td>\n",
       "      <td>0.959038</td>\n",
       "    </tr>\n",
       "    <tr>\n",
       "      <th>...</th>\n",
       "      <td>...</td>\n",
       "      <td>...</td>\n",
       "      <td>...</td>\n",
       "      <td>...</td>\n",
       "      <td>...</td>\n",
       "      <td>...</td>\n",
       "    </tr>\n",
       "    <tr>\n",
       "      <th>6684</th>\n",
       "      <td>1237667323797504055</td>\n",
       "      <td>194.386816</td>\n",
       "      <td>27.610347</td>\n",
       "      <td>14.29806</td>\n",
       "      <td>0.020128</td>\n",
       "      <td>0.572215</td>\n",
       "    </tr>\n",
       "    <tr>\n",
       "      <th>6721</th>\n",
       "      <td>1237667323797504287</td>\n",
       "      <td>194.313779</td>\n",
       "      <td>27.729827</td>\n",
       "      <td>17.70884</td>\n",
       "      <td>0.019222</td>\n",
       "      <td>0.541781</td>\n",
       "    </tr>\n",
       "    <tr>\n",
       "      <th>6732</th>\n",
       "      <td>1237667444048592990</td>\n",
       "      <td>194.775094</td>\n",
       "      <td>27.996698</td>\n",
       "      <td>14.98426</td>\n",
       "      <td>0.025575</td>\n",
       "      <td>0.453462</td>\n",
       "    </tr>\n",
       "    <tr>\n",
       "      <th>6748</th>\n",
       "      <td>1237667323797372988</td>\n",
       "      <td>194.082453</td>\n",
       "      <td>27.751027</td>\n",
       "      <td>15.19109</td>\n",
       "      <td>0.022975</td>\n",
       "      <td>0.894232</td>\n",
       "    </tr>\n",
       "    <tr>\n",
       "      <th>6750</th>\n",
       "      <td>1237667323260567649</td>\n",
       "      <td>194.119066</td>\n",
       "      <td>27.291268</td>\n",
       "      <td>15.41853</td>\n",
       "      <td>0.025071</td>\n",
       "      <td>1.253186</td>\n",
       "    </tr>\n",
       "  </tbody>\n",
       "</table>\n",
       "<p>551 rows × 6 columns</p>\n",
       "</div>"
      ],
      "text/plain": [
       "                    objid          ra        dec  magnitude  redshift  \\\n",
       "16    1237667323797897365  195.451200  27.728445   18.13913  0.018286   \n",
       "28    1237667324334571861  194.990049  28.065098   17.27383  0.019484   \n",
       "30    1237667444048724058  195.023672  27.926464   18.30723  0.026533   \n",
       "37    1237667444048592948  194.733085  27.833372   14.83922  0.025103   \n",
       "41    1237667443511722195  194.660042  27.544100   16.01950  0.019913   \n",
       "...                   ...         ...        ...        ...       ...   \n",
       "6684  1237667323797504055  194.386816  27.610347   14.29806  0.020128   \n",
       "6721  1237667323797504287  194.313779  27.729827   17.70884  0.019222   \n",
       "6732  1237667444048592990  194.775094  27.996698   14.98426  0.025575   \n",
       "6748  1237667323797372988  194.082453  27.751027   15.19109  0.022975   \n",
       "6750  1237667323260567649  194.119066  27.291268   15.41853  0.025071   \n",
       "\n",
       "      Distancia Radial  \n",
       "16            1.447246  \n",
       "28            0.381722  \n",
       "30            0.158524  \n",
       "37            0.174131  \n",
       "41            0.959038  \n",
       "...                ...  \n",
       "6684          0.572215  \n",
       "6721          0.541781  \n",
       "6732          0.453462  \n",
       "6748          0.894232  \n",
       "6750          1.253186  \n",
       "\n",
       "[551 rows x 6 columns]"
      ]
     },
     "execution_count": 12,
     "metadata": {},
     "output_type": "execute_result"
    }
   ],
   "source": [
    "# O próximo passo é encontrar o raio efetivo, para isso e preciso saber a luminosidade de cada galáxia dentro do aglomerado\n",
    "# Para começar este calculo é preciso calcular a distancia radial de cada coordenada que filtramos até agora da região\n",
    "# Isto é necessário pois na hora que iremos calcular o total de galáxias dentro do aglomerado iremos usa-los\n",
    "# cos(dec) para correções de ra\n",
    "declinacao = coma['dec']\n",
    "assensao = coma['ra']\n",
    "\n",
    "cos_dec = np.cos(np.radians(declinacao))\n",
    "ra_corr = np.multiply(assensao,cos_dec)\n",
    "ra_cor = ra_med* np.cos(np.radians(dec_med))\n",
    "\n",
    "# Para fazer o calculo da distancia radial, é necessario saber a diferençã dos dados que foram aplicados a correção com os dados coletados tabelados.\n",
    "ra_dif = ra_corr - ra_cor\n",
    "dec_dif = declinacao - dec_med\n",
    "\n",
    "# Distancia até o centro:\n",
    "dist_centro = np.sqrt((ra_dif**2)+(dec_dif**2))\n",
    "distancia_radial = distancia * (dist_centro/57.3)\n",
    "coma['Distancia Radial'] = distancia_radial\n",
    "coma"
   ]
  },
  {
   "cell_type": "code",
   "execution_count": 13,
   "metadata": {},
   "outputs": [],
   "source": [
    "# Com o calculo da distância radial feito para cada ponto do filtro que foi feito,\n",
    "# vamos atrás das galáxias dentro do raio do aglomerado,isto pois no ultimo plot de pontos usando o ra e dec, \n",
    "# Não necessáriamente cada ponto daquele é considerado uma galáxia.\n",
    "# Para fazer isso tem que fazer com que cada galáxia passe por dentro do raio do aglomerado, raio esse que seria a distancia radial.\n",
    "# A partir daqui mudei o a tabela até aqui feita para numpy.arrays, isto porque fica mais viavel de fazer os calculos\n",
    "# tanto de luminosidade cumulativa, magnitude absoluta e velocidades.\n",
    "\n",
    "desvio_padrao_do_redshift = 0.004162048335264272\n",
    "\n",
    "# Então como já dito, mudando os dados de pandas para numpy, pegando cada header e trasnformando em lista usando tolist()\n",
    "# Estou colocando cada coluna como float (pois caso retire, mas para frente nos códigos irá dar erro de float)\n",
    "obj = coma['objid'].tolist()\n",
    "obj = [float(i) for i in obj]\n",
    "ra = coma['ra'].tolist()\n",
    "ra = [float(i) for i in ra]\n",
    "dec = coma['dec'].tolist()\n",
    "dec = [float(i) for i in dec]\n",
    "magnitude = coma['magnitude'].tolist()\n",
    "magnitude = [float(i) for i in magnitude]\n",
    "redshift = coma['redshift'].tolist()\n",
    "redshift = [float(i) for i in redshift]\n",
    "dist = coma['Distancia Radial'].tolist()\n",
    "dist = [float(i) for i in dist]\n"
   ]
  },
  {
   "cell_type": "code",
   "execution_count": 14,
   "metadata": {},
   "outputs": [],
   "source": [
    "# Colocando cada dado em uma matriz\n",
    "dados_coma = [[],[],[],[],[],[],[],[],[],[]]\n",
    "# Fazendo a comparação entre o raio e o redshift\n",
    "# Esta comparação serviria como mais um filtro para indentificar as galaxias presentes na amostra\n",
    "for i in range(len(dist)):\n",
    "    if dist[i] < 1.5 and (red_med-(desvio_padrao_do_redshift*3)) < redshift[i] and redshift[i] < (red_med+(desvio_padrao_do_redshift*3)):\n",
    "        dados_coma[0].append(obj[i])\n",
    "        dados_coma[1].append(ra[i])\n",
    "        dados_coma[2].append(dec[i])\n",
    "        dados_coma[3].append(magnitude[i])\n",
    "        dados_coma[4].append(redshift[i])\n",
    "        dados_coma[5].append(dist[i])\n"
   ]
  },
  {
   "cell_type": "code",
   "execution_count": 15,
   "metadata": {},
   "outputs": [],
   "source": [
    "# Fazendo os mesmos calculos que ultilizamos para calcular distancia, distancia radial, velocidade aplicando no parametro entre o raio e o redshifth\n",
    "\n",
    "# Fazendo a média em ra\n",
    "ra_multiplicacao = np.multiply(dados_coma[1],dados_coma[3])\n",
    "ra_soma = sum(ra_multiplicacao)\n",
    "tam = sum(dados_coma[3])\n",
    "ra_med = ra_soma/tam\n",
    "\n",
    "# Fazendo a média em dec\n",
    "dec_multiplicacao = np.multiply(dados_coma[2],dados_coma[3])\n",
    "dec_soma = sum(dec_multiplicacao)\n",
    "dec_med = dec_soma/tam\n",
    "\n",
    "# Retirando o redshift médio e o seu desvio padrão.\n",
    "med, desvio = norm.fit(dados_coma[4])\n",
    "coma_redshift = med\n",
    "coma_desvio_padrao = desvio\n",
    "\n",
    "# Calculando a velocidade usando a Lei de Hubble v = c.z_med\n",
    "beta_1 = (((red_med+1)**2)-1)/(((red_med+1)**2)+1)\n",
    "v_coma = beta_1*c\n",
    "\n",
    "## Agora podemos calcular a distância em Mpc do agloremardo a partir da a lei de hubble v = H0.d\n",
    "dist_coma = v_coma/H0 \n",
    "\n",
    "# Refazendo os calculos da distancia radial em cada ponto\n",
    "cos_dec = np.cos(np.radians(dados_coma[2]))\n",
    "ra_corr = np.multiply(dados_coma[1],cos_dec)\n",
    "ra_cor= ra_med* np.cos(np.radians(dec_med))\n",
    "\n",
    "#Diferenças de ra \n",
    "ra_diff = ra_corr - ra_cor\n",
    "#Diferenças em dec\n",
    "dec_diff = dados_coma[2] - dec_med\n",
    "\n",
    "#Distancia até o centro:\n",
    "ang_sep_1 = np.sqrt((ra_diff**2)+(dec_diff**2))\n",
    "rad_dist_1 = dist_coma * (ang_sep_1/57.3) "
   ]
  },
  {
   "cell_type": "code",
   "execution_count": 16,
   "metadata": {},
   "outputs": [
    {
     "name": "stdout",
     "output_type": "stream",
     "text": [
      "Existem 409 Galaxias \n"
     ]
    }
   ],
   "source": [
    "# Fazendo os dados filtrados na região passar pelo parametro do raio central com o redshift podemos chegar na seguinte conclusão \n",
    "print(\"Existem\", str(len(dados_coma[0])) , \"Galaxias \")"
   ]
  },
  {
   "cell_type": "code",
   "execution_count": 17,
   "metadata": {},
   "outputs": [],
   "source": [
    "# Agora voltamos a nos preocupar em achar o raio efetivo, para isso precisamos calcular a luminosidade das galaxias\n",
    "# Assim então por primeiro vamos calcular a magnitude absoluta a partir da magnitude puxadas do SDSS\n",
    "# mudando a distancia de Mpc -> pc\n",
    "d_pc = 101349980.28454963\n",
    "\n",
    "# Fazendo o calculo usando as magnitudes: m - M = 5 log d + 5\n",
    "for a in range(len(dados_coma[0])):\n",
    "    M = dados_coma[3][a] - (5*np.log10(d_pc)) + 5 \n",
    "    dados_coma[6].append(M)"
   ]
  },
  {
   "cell_type": "code",
   "execution_count": 20,
   "metadata": {},
   "outputs": [],
   "source": [
    "# Agora para achar a Luminosidade, vamos usar a magnitude absoluta do Sol\n",
    "# M = -2,5 log (L/L0)\n",
    "for a in range(len(dados_coma[0])):\n",
    "    mag_diff = 4.76 - dados_coma[6][a]\n",
    "    lum = 2.512 **(mag_diff) #in solar luminosities\n",
    "    dados_coma[7].append(lum)"
   ]
  },
  {
   "cell_type": "code",
   "execution_count": 36,
   "metadata": {},
   "outputs": [],
   "source": [
    "# A ideia então é encontrar o raio R que contém metade da L total. Isso pode ser feito ordenando as galáxias em ordem crescente de distância ao centro e somando as luminosidades cumulativamente.\n",
    "# Portanto vamos ultilizar a  função de distribuição cumulativa das galáxias nos mostrará como a luminosidade de cada galáxia muda dependendo da distância radial.\n",
    "lum_cum = []\n",
    "for i in range(150):\n",
    "    lum_sum = []\n",
    "    for a in range(len(dist)):\n",
    "        if dist[a] < ((i+1)/100):\n",
    "            lum_sum.append(dados_coma[7][a])\n",
    "    lum_cum.append(sum(lum_sum))\n",
    "    del lum_sum[:]\n",
    "\n",
    "cum_lum_norm = lum_cum /max(lum_cum)\n",
    "cum_dist = np.arange(0,1.5,0.01)"
   ]
  },
  {
   "cell_type": "code",
   "execution_count": 37,
   "metadata": {},
   "outputs": [
    {
     "name": "stdout",
     "output_type": "stream",
     "text": [
      "O raio efetivo é 0.6900000000000001 Mpc.\n",
      "Raio de meia massa 0.92 Mpc.\n"
     ]
    }
   ],
   "source": [
    "# O raio efetivo do aglomerado de galáxias é basicamente 4/3 do raio de meia massa. \n",
    "# Podemos primeiro estimar o raio efetivo usando a fórmula de luminosidade calcula a cima\n",
    "R_eff = cum_dist[69]\n",
    "print(\"O raio efetivo é\", str(R_eff) ,\"Mpc.\")\n",
    "\n",
    "# Então\n",
    "r = (4/3)*R_eff\n",
    "print(\"Raio de meia massa\", str(r) , \"Mpc.\")"
   ]
  },
  {
   "cell_type": "code",
   "execution_count": 70,
   "metadata": {},
   "outputs": [
    {
     "name": "stdout",
     "output_type": "stream",
     "text": [
      "O desvio padrão das velocidades é:  547.1905807791624 km/s\n"
     ]
    }
   ],
   "source": [
    "# Com o raio calcualdo então, vamos então partir para calcular as velocidades,  para usar no modelo de virial\n",
    "# Por primeiro vamos calcular as dispersão de velocidade de cada galaxia, podemos usar aqui tambem a lei de Hubble \n",
    "# Usaremos o desvio padrão das velocidade para calcular a massa do virial\n",
    "vel = []\n",
    "\n",
    "for a in range(len(dados_coma[0])):\n",
    "    beta_vel = (((dados_coma[4][a]+1)**2)-1)/(((dados_coma[4][a]+1)**2)+1)\n",
    "    v = beta_vel*c\n",
    "    vel.append(v)\n",
    "\n",
    "\n",
    "velocidade = np.abs(np.array(vel) - v_coma)\n",
    "# Usando o fit para achar o desvio padrão da velocidae que no caso conseideramos que é nossa velocidade de dispeção.\n",
    "med_velcidade, desv_velocidade = norm.fit(velocidade)\n",
    "vel_disp = desv_velocidade\n",
    "print (\"O desvio padrão das velocidades é: \", vel_disp,\"km/s\") "
   ]
  },
  {
   "cell_type": "code",
   "execution_count": 71,
   "metadata": {},
   "outputs": [
    {
     "name": "stdout",
     "output_type": "stream",
     "text": [
      "A massa do aglomerado de Coma 3.821167077831006e+44 kg\n"
     ]
    }
   ],
   "source": [
    "# Por fim então calcular a massa do virial de coma, já que coseguimos usar a formula\n",
    "\n",
    "G = 6.674E-11 #m^3/kg/s^2\n",
    "vel_disp = vel_disp * 1000 #m/s\n",
    "raio = r * 3.086E22 #m\n",
    "\n",
    "Massa_Coma = (3 * (vel_disp**2) * raio)/G\n",
    "print(\"A massa do aglomerado de Coma\" , str(Massa_Coma) ,\"kg\")\n"
   ]
  },
  {
   "cell_type": "code",
   "execution_count": 75,
   "metadata": {},
   "outputs": [
    {
     "name": "stdout",
     "output_type": "stream",
     "text": [
      "6.907872904528144e+22 massa solar\n"
     ]
    }
   ],
   "source": [
    "# Bom, agora que obtemos a massa cumulativa do aglomerado em kg, é ideal colocarmos em massas solares. \n",
    "# Fazendo a conversão então, podemos ultilizar a M\n",
    "\n",
    "M = Massa_Coma * 5.02785**-31\n",
    "print(M ,\"massa solar\")"
   ]
  }
 ],
 "metadata": {
  "interpreter": {
   "hash": "3dd126648d3c87b7f8f1f574b819ea265afa530519cc2e7654ba5647f3fc488e"
  },
  "kernelspec": {
   "display_name": "Python 3.9.7 ('base')",
   "language": "python",
   "name": "python3"
  },
  "language_info": {
   "codemirror_mode": {
    "name": "ipython",
    "version": 3
   },
   "file_extension": ".py",
   "mimetype": "text/x-python",
   "name": "python",
   "nbconvert_exporter": "python",
   "pygments_lexer": "ipython3",
   "version": "3.9.7"
  },
  "orig_nbformat": 4
 },
 "nbformat": 4,
 "nbformat_minor": 2
}
